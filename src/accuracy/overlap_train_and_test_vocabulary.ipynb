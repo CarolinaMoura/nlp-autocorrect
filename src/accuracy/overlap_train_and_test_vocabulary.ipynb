{
 "cells": [
  {
   "cell_type": "code",
   "execution_count": null,
   "metadata": {},
   "outputs": [],
   "source": [
    "import re\n",
    "from datasets import load_dataset"
   ]
  },
  {
   "cell_type": "code",
   "execution_count": null,
   "metadata": {},
   "outputs": [],
   "source": [
    "# brazilian alphabet\n",
    "lower_case = r'abcdefghijklmnopqrstuvwxyzáàâãéêíóôõúç'\n",
    "upper_case = r'ABCDEFGHIJKLMNOPQRSTUVWXYZÁÀÂÃÉÊÍÓÔÕÚÇ'"
   ]
  },
  {
   "cell_type": "code",
   "execution_count": null,
   "metadata": {},
   "outputs": [],
   "source": [
    "dt = load_dataset('carolmou/random-sentences')"
   ]
  },
  {
   "cell_type": "code",
   "execution_count": null,
   "metadata": {},
   "outputs": [],
   "source": [
    "freq = {}\n",
    "test_sentences = []"
   ]
  },
  {
   "cell_type": "code",
   "execution_count": null,
   "metadata": {},
   "outputs": [],
   "source": [
    "# matches all lower case words or word with the first upper character and hiphenized words\n",
    "reg = rf'\\b(?:[{upper_case}][{lower_case}]*|[{lower_case}]+(?:-[{lower_case}]+)*|[{lower_case}]*[{upper_case}](?=[{lower_case}]))\\b'"
   ]
  },
  {
   "cell_type": "code",
   "execution_count": null,
   "metadata": {},
   "outputs": [],
   "source": [
    "for type in [\"train\", \"test\"]:\n",
    "    # 'type' dictionary of frequencies\n",
    "    dic = {}\n",
    "\n",
    "    wrong = dt[type][\"wrong_text\"]\n",
    "    correct = dt[type][\"correct_text\"]\n",
    "\n",
    "    for w_sentence, c_sentence in zip(wrong, correct):\n",
    "        # find all words of each sentence\n",
    "        w_words = list(re.findall(reg, w_sentence))\n",
    "        c_words = list(re.findall(reg, c_sentence))\n",
    "\n",
    "        tuples = []\n",
    "\n",
    "        # iterate through them pairwise\n",
    "        for w1, w2 in zip(w_words, c_words):\n",
    "            if w1 == w2:\n",
    "                continue\n",
    "\n",
    "            # they're different; this is where\n",
    "            # the model has to act\n",
    "            dic[(w1, w2)] = dic.get((w1, w2), 0) + 1\n",
    "\n",
    "            # for each test sentence, make a list\n",
    "            # of the different pairs\n",
    "            if type == \"test\":\n",
    "                tuples.append((w1, w2))\n",
    "\n",
    "        if type == \"test\":\n",
    "            test_sentences.append(tuples)\n",
    "\n",
    "    # retrieve alias\n",
    "    freq[type] = dic"
   ]
  },
  {
   "cell_type": "code",
   "execution_count": null,
   "metadata": {},
   "outputs": [],
   "source": [
    "# preview for sanity\n",
    "freq[\"test\"]"
   ]
  },
  {
   "cell_type": "code",
   "execution_count": null,
   "metadata": {},
   "outputs": [],
   "source": [
    "# amount of sentences where every mistake\n",
    "# has been seen in the train before\n",
    "qtd = 0\n",
    "\n",
    "for sentence in test_sentences:\n",
    "    for tup in sentence:\n",
    "        # the model has never seen this mistake\n",
    "        # before; it has to extrapolate\n",
    "        if freq['train'].get(tup,0) == 0:\n",
    "            break\n",
    "    else:\n",
    "        qtd += 1"
   ]
  },
  {
   "cell_type": "code",
   "execution_count": null,
   "metadata": {},
   "outputs": [],
   "source": [
    "total_sentences = len(dt['test']['wrong_text'])\n",
    "\n",
    "# percentage of bad sentences in the test set\n",
    "print((qtd/total_sentences)*100)"
   ]
  }
 ],
 "metadata": {
  "kernelspec": {
   "display_name": ".venv",
   "language": "python",
   "name": "python3"
  },
  "language_info": {
   "codemirror_mode": {
    "name": "ipython",
    "version": 3
   },
   "file_extension": ".py",
   "mimetype": "text/x-python",
   "name": "python",
   "nbconvert_exporter": "python",
   "pygments_lexer": "ipython3",
   "version": "3.10.12"
  },
  "orig_nbformat": 4
 },
 "nbformat": 4,
 "nbformat_minor": 2
}
