{
 "cells": [
  {
   "cell_type": "code",
   "execution_count": 1,
   "metadata": {},
   "outputs": [],
   "source": [
    "import pickle"
   ]
  },
  {
   "cell_type": "code",
   "execution_count": 3,
   "metadata": {},
   "outputs": [],
   "source": [
    "with open('../../data/test_wrong_vocabulary.pickle', 'rb') as f:\n",
    "    test = pickle.load(f)"
   ]
  },
  {
   "cell_type": "code",
   "execution_count": 2,
   "metadata": {},
   "outputs": [],
   "source": [
    "with open('../../data/train_wrong_vocabulary.pickle', 'rb') as f:\n",
    "    train = pickle.load(f)"
   ]
  },
  {
   "cell_type": "code",
   "execution_count": 10,
   "metadata": {},
   "outputs": [],
   "source": [
    "wrong_test = list(test['wrong'])\n",
    "wrong_train = list(train['wrong'])\n",
    "\n",
    "correct_test = list(test['correction'])\n",
    "correct_train = list(train['correction'])"
   ]
  },
  {
   "cell_type": "code",
   "execution_count": 11,
   "metadata": {},
   "outputs": [],
   "source": [
    "f = set()\n",
    "\n",
    "for wrong, right in zip(wrong_train, correct_train):\n",
    "    f.add((wrong,right))"
   ]
  },
  {
   "cell_type": "code",
   "execution_count": 12,
   "metadata": {},
   "outputs": [],
   "source": [
    "s = set() \n",
    "\n",
    "for wrong, right in zip(wrong_test, correct_test):\n",
    "    if (wrong,right) in f:\n",
    "        s.add((wrong,right))"
   ]
  },
  {
   "cell_type": "code",
   "execution_count": 16,
   "metadata": {},
   "outputs": [
    {
     "name": "stdout",
     "output_type": "stream",
     "text": [
      "Total of 7598 similarities, which is\n",
      "1.6812747417125635% of the training set\n",
      "41.3834422657952% of the test set\n"
     ]
    }
   ],
   "source": [
    "print(f'Total of {len(s)} similarities, which is')\n",
    "print(f'{(len(s)/len(f))*100}% of the training set')\n",
    "print(f'{(len(s)/len(wrong_test))*100}% of the test set')"
   ]
  }
 ],
 "metadata": {
  "kernelspec": {
   "display_name": ".venv",
   "language": "python",
   "name": "python3"
  },
  "language_info": {
   "codemirror_mode": {
    "name": "ipython",
    "version": 3
   },
   "file_extension": ".py",
   "mimetype": "text/x-python",
   "name": "python",
   "nbconvert_exporter": "python",
   "pygments_lexer": "ipython3",
   "version": "3.10.12"
  },
  "orig_nbformat": 4
 },
 "nbformat": 4,
 "nbformat_minor": 2
}
